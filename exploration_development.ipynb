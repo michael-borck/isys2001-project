{
  "nbformat": 4,
  "nbformat_minor": 0,
  "metadata": {
    "colab": {
      "private_outputs": true,
      "provenance": [],
      "authorship_tag": "ABX9TyOGVawRcrpmDokRSx9au9+T",
      "include_colab_link": true
    },
    "kernelspec": {
      "name": "python3",
      "display_name": "Python 3"
    },
    "language_info": {
      "name": "python"
    }
  },
  "cells": [
    {
      "cell_type": "markdown",
      "metadata": {
        "id": "view-in-github",
        "colab_type": "text"
      },
      "source": [
        "<a href=\"https://colab.research.google.com/github/michael-borck/isys2001-project/blob/main/exploration_development.ipynb\" target=\"_parent\"><img src=\"https://colab.research.google.com/assets/colab-badge.svg\" alt=\"Open In Colab\"/></a>"
      ]
    },
    {
      "cell_type": "code",
      "execution_count": null,
      "metadata": {
        "id": "Rc12rO0e268g"
      },
      "outputs": [],
      "source": [
        "!wget -O iris.csv https://archive.ics.uci.edu/ml/machine-learning-databases/iris/iris.data > /dev/null 2>&1"
      ]
    },
    {
      "cell_type": "markdown",
      "source": [
        "# Load the data\n",
        "Let's break down the command:\n",
        "\n",
        "!: The exclamation mark at the beginning is often used in environments like Jupyter notebooks to run shell commands. It might not be necessary if you're already in a Unix-like shell.\n",
        "\n",
        "wget: This is a free utility for non-interactive download of files from the web. It supports HTTP, HTTPS, and FTP protocols, as well as retrieval through HTTP proxies.\n",
        "\n",
        "-O iris.csv: The -O option in wget command is used to specify the name of the file that the content is downloaded to. In this case, the content being downloaded will be saved as iris.csv.\n",
        "\n",
        "https://archive.ics.uci.edu/ml/machine-learning-databases/iris/iris.data: This is the URL of the file that you are downloading. It appears to be a dataset on iris flowers from the UCI Machine Learning Repository.\n",
        "\n",
        "\\> /dev/null 2>&1: This is redirecting the output of the command. > /dev/null redirects the standard output (stdout) to /dev/null, which discards it. 2>&1 then redirects the standard error (stderr, denoted by the number 2) to stdout (denoted by the number 1), effectively discarding both standard output and standard error by sending them to /dev/null. This is commonly used to suppress output from a command.\n",
        "\n",
        "So, put all together, this command downloads the file at the given URL and saves it as iris.csv, suppressing any output from the command."
      ],
      "metadata": {
        "id": "UY5QCTnG2_Sv"
      }
    },
    {
      "cell_type": "code",
      "source": [
        "import pandas as pd\n",
        "\n",
        "df = pd.read_csv('iris.csv')\n",
        "df"
      ],
      "metadata": {
        "id": "9iXDdSLB3Ub1"
      },
      "execution_count": null,
      "outputs": []
    },
    {
      "cell_type": "markdown",
      "source": [
        "Using the pandas library to load a CSV file into a DataFrame. Here's a breakdown of each line:\n",
        "\n",
        "1. `import pandas as pd`: This imports the pandas library and gives it the alias `pd`. Pandas is a widely used data manipulation library in Python. It's particularly good at handling tabular data with heterogeneously-typed columns.\n",
        "\n",
        "2. `df = pd.read_csv('iris.csv')`: The `read_csv` function is used to read a CSV (comma-separated values) file and convert it into a DataFrame. In this case, the CSV file 'iris.csv' is loaded into a DataFrame. The resulting DataFrame is stored in the variable `df`.\n",
        "\n",
        "3. `df`: This line is just calling the variable `df` which is your DataFrame. If this script is run in a Python interpreter or Jupyter notebook, it will print the DataFrame to the console. Depending on the environment, it might show the whole DataFrame or just the first few and last few rows if the DataFrame is large."
      ],
      "metadata": {
        "id": "zhXvQaJL_Gwq"
      }
    },
    {
      "cell_type": "code",
      "source": [
        "# Display the first 5 lines\n",
        "df.head()"
      ],
      "metadata": {
        "id": "DZfD0S3XA3yw"
      },
      "execution_count": null,
      "outputs": []
    },
    {
      "cell_type": "code",
      "source": [
        "# Randomly sample the dataframe\n",
        "df.sample(10)"
      ],
      "metadata": {
        "id": "EOLj2pg-A8Ev"
      },
      "execution_count": null,
      "outputs": []
    },
    {
      "cell_type": "code",
      "source": [
        "# Some simple statistics to describe the dataframe\n",
        "df.describe()"
      ],
      "metadata": {
        "id": "WCP_sYTHAjJs"
      },
      "execution_count": null,
      "outputs": []
    },
    {
      "cell_type": "code",
      "source": [
        "# using isnull() function  \n",
        "df.isnull()"
      ],
      "metadata": {
        "id": "S4B92Hl0-o0S"
      },
      "execution_count": null,
      "outputs": []
    },
    {
      "cell_type": "code",
      "source": [
        "# using notnull() function  \n",
        "df.notnull()"
      ],
      "metadata": {
        "id": "q_8nATOx_nEG"
      },
      "execution_count": null,
      "outputs": []
    },
    {
      "cell_type": "code",
      "source": [],
      "metadata": {
        "id": "zWYJ6KsR_x11"
      },
      "execution_count": null,
      "outputs": []
    }
  ]
}